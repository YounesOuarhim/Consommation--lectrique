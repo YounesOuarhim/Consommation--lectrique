{
 "cells": [
  {
   "cell_type": "markdown",
   "metadata": {},
   "source": [
    "## Analyse des bases de données \n"
   ]
  },
  {
   "cell_type": "code",
   "execution_count": null,
   "metadata": {},
   "outputs": [],
   "source": [
    "import pandas as pd\n",
    "import numpy as np\n",
    "import seaborn as sns\n",
    "import matplotlib.pyplot as plt"
   ]
  },
  {
   "cell_type": "code",
   "execution_count": null,
   "metadata": {},
   "outputs": [],
   "source": [
    "df1 = pd.read_csv('df1.csv',delimiter=',')\n",
    "df2 = pd.read_csv('df2.csv',delimiter=',')\n",
    "print(\"la taille de la dataset donnant la consommation en fonction de la température est \", df2.shape[0]) # sans les données à compléter\n",
    "print(\"la taille de la dataset complète donnant la consommation en fonction de la température est \", df2.dropna().shape[0]) # avec les données à compléter\n",
    "print(\"la taille de la dataset donnant la consommation en fonction de la température est \", df1.shape[0]) \n",
    "print(\"la taille de la dataset complète donnant la consommation en fonction de la température est \", df1.dropna().shape[0]) \n",
    "print('la différence entre les différentes datasets complète et non complète est \\n', pd.concat([df2,df2.dropna()]).drop_duplicates(keep=False).head())\n",
    "print(df1.columns)\n"
   ]
  },
  {
   "cell_type": "markdown",
   "metadata": {},
   "source": [
    "On conclu qu'il n'y a pas de données erronés, la différence des datasets trouvé est juste la partie du fichier csv qu'on doit compléter. "
   ]
  },
  {
   "cell_type": "code",
   "execution_count": null,
   "metadata": {},
   "outputs": [],
   "source": [
    "f, axes = plt.subplots(3, 3, figsize=(20,20))\n",
    "sns.boxplot(df2['mean'],ax=axes[0,0])\n",
    "sns.boxplot(df2['temp'],ax=axes[1,1])\n",
    "sns.boxplot(df1['rain'],ax=axes[2,2])\n",
    "sns.boxplot(df1['sun'],ax=axes[1,0])\n",
    "sns.boxplot(df1['rhum'],ax=axes[0,1])\n",
    "\n"
   ]
  },
  {
   "cell_type": "markdown",
   "metadata": {},
   "source": [
    "Exploration des propriétés temporelles des deux datasets\n"
   ]
  },
  {
   "cell_type": "code",
   "execution_count": null,
   "metadata": {},
   "outputs": [],
   "source": [
    "print(df2['time'].max())\n",
    "print(df1['date'].max())\n",
    "# La dataset 2 a pour décalage une demie heure, La dataset 1 a pour décalage une demi heure.\n",
    "print(df1['date'])"
   ]
  },
  {
   "cell_type": "markdown",
   "metadata": {},
   "source": [
    "## Rassemblement des deux datasets\n"
   ]
  },
  {
   "cell_type": "code",
   "execution_count": null,
   "metadata": {},
   "outputs": [],
   "source": [
    "clean = df2\n",
    "clean['time'] = pd.to_datetime(clean['time'])\n",
    "df2_= clean[clean['time'].dt.minute == 00]\n",
    "df2_=df2_.dropna()\n",
    "df1_=df1[(df1['date'] >='2009-07-15 ') & (df1['date'] <= '2010-12-15')]\n",
    "df1_.rename(columns={'date':'time'}, inplace=True)\n",
    "df1_['time'] = pd.to_datetime(df1_['time'])\n",
    "df = pd.merge(left=df1_,right=df2_,on='time' )\n",
    "df=df.drop(\"temp_x\", axis='columns')\n",
    "df.rename(columns={'temp_y':'temp'}, inplace=True)"
   ]
  },
  {
   "cell_type": "markdown",
   "metadata": {},
   "source": [
    "## Visualisation et calcul des différentes corrélation avec la consommation électrique"
   ]
  },
  {
   "cell_type": "code",
   "execution_count": null,
   "metadata": {},
   "outputs": [],
   "source": [
    "columns = df.columns\n",
    "for name in columns : \n",
    "    try : \n",
    "        sns.pairplot(df,x_vars=[name], y_vars='mean', height=4, aspect=3, kind='scatter')\n",
    "    except: \n",
    "        print(name)\n",
    "kerr\n"
   ]
  },
  {
   "cell_type": "markdown",
   "metadata": {},
   "source": [
    "### Remarque: \n",
    "Nous remarquons que l'humidité 'rhum', la hauteur des nuages 'clht' , la vapeur d'eau 'vappr' , la température 'temp' et la pluie 'rain' ont une corrélation importante avec la consommation électrique. Cependant on va calculer ces corrélations. "
   ]
  },
  {
   "cell_type": "markdown",
   "metadata": {},
   "source": [
    "### Indices de corrélation\n"
   ]
  },
  {
   "cell_type": "code",
   "execution_count": null,
   "metadata": {},
   "outputs": [
    {
     "name": "stdout",
     "output_type": "stream",
     "text": [
      "[['time', 'ind', 'rain', 'ind.1', 'ind.2', 'wetb', 'dewpt', 'vappr', 'rhum', 'msl', 'ind.3', 'wdsp', 'ind.4', 'wddir', 'ww', 'w', 'sun', 'vis', 'clht', 'clamt', 'mean', 'temp']]\n"
     ]
    },
    {
     "ename": "TypeError",
     "evalue": "unsupported operand type(s) for -: 'list' and 'list'",
     "output_type": "error",
     "traceback": [
      "\u001b[1;31m---------------------------------------------------------------------------\u001b[0m",
      "\u001b[1;31mTypeError\u001b[0m                                 Traceback (most recent call last)",
      "Cell \u001b[1;32mIn[34], line 3\u001b[0m\n\u001b[0;32m      1\u001b[0m \u001b[38;5;28mprint\u001b[39m([[name_column \u001b[38;5;28;01mfor\u001b[39;00m name_column \u001b[38;5;129;01min\u001b[39;00m df\u001b[38;5;241m.\u001b[39mcolumns \u001b[38;5;28;01mif\u001b[39;00m name_column]])\n\u001b[0;32m      2\u001b[0m columns \u001b[38;5;241m=\u001b[39m [\u001b[38;5;124m'\u001b[39m\u001b[38;5;124mtime\u001b[39m\u001b[38;5;124m'\u001b[39m,\u001b[38;5;124m'\u001b[39m\u001b[38;5;124mtemp\u001b[39m\u001b[38;5;124m'\u001b[39m,\u001b[38;5;124m'\u001b[39m\u001b[38;5;124mmean\u001b[39m\u001b[38;5;124m'\u001b[39m,\u001b[38;5;124m'\u001b[39m\u001b[38;5;124mvappr\u001b[39m\u001b[38;5;124m'\u001b[39m,\u001b[38;5;124m'\u001b[39m\u001b[38;5;124mind\u001b[39m\u001b[38;5;124m'\u001b[39m,\u001b[38;5;124m'\u001b[39m\u001b[38;5;124mind.1\u001b[39m\u001b[38;5;124m'\u001b[39m,\u001b[38;5;124m'\u001b[39m\u001b[38;5;124mrain\u001b[39m\u001b[38;5;124m'\u001b[39m,\u001b[38;5;124m'\u001b[39m\u001b[38;5;124mrhum\u001b[39m\u001b[38;5;124m'\u001b[39m,\u001b[38;5;124m'\u001b[39m\u001b[38;5;124mmsl\u001b[39m\u001b[38;5;124m'\u001b[39m,\u001b[38;5;124m'\u001b[39m\u001b[38;5;124mwdsp\u001b[39m\u001b[38;5;124m'\u001b[39m,\u001b[38;5;124m'\u001b[39m\u001b[38;5;124mwddir\u001b[39m\u001b[38;5;124m'\u001b[39m,\u001b[38;5;124m'\u001b[39m\u001b[38;5;124mww\u001b[39m\u001b[38;5;124m'\u001b[39m,\u001b[38;5;124m'\u001b[39m\u001b[38;5;124mw\u001b[39m\u001b[38;5;124m'\u001b[39m,\u001b[38;5;124m'\u001b[39m\u001b[38;5;124msun\u001b[39m\u001b[38;5;124m'\u001b[39m,\u001b[38;5;124m'\u001b[39m\u001b[38;5;124mclht\u001b[39m\u001b[38;5;124m'\u001b[39m,\u001b[38;5;124m'\u001b[39m\u001b[38;5;124mclamt\u001b[39m\u001b[38;5;124m'\u001b[39m,]\n\u001b[1;32m----> 3\u001b[0m L\u001b[38;5;241m=\u001b[39m \u001b[43m[\u001b[49m\u001b[38;5;124;43m'\u001b[39;49m\u001b[38;5;124;43mdate\u001b[39;49m\u001b[38;5;124;43m'\u001b[39;49m\u001b[43m,\u001b[49m\u001b[43m \u001b[49m\u001b[38;5;124;43m'\u001b[39;49m\u001b[38;5;124;43mind\u001b[39;49m\u001b[38;5;124;43m'\u001b[39;49m\u001b[43m,\u001b[49m\u001b[43m \u001b[49m\u001b[38;5;124;43m'\u001b[39;49m\u001b[38;5;124;43mrain\u001b[39;49m\u001b[38;5;124;43m'\u001b[39;49m\u001b[43m,\u001b[49m\u001b[43m \u001b[49m\u001b[38;5;124;43m'\u001b[39;49m\u001b[38;5;124;43mind.1\u001b[39;49m\u001b[38;5;124;43m'\u001b[39;49m\u001b[43m,\u001b[49m\u001b[43m \u001b[49m\u001b[38;5;124;43m'\u001b[39;49m\u001b[38;5;124;43mtemp\u001b[39;49m\u001b[38;5;124;43m'\u001b[39;49m\u001b[43m,\u001b[49m\u001b[43m \u001b[49m\u001b[38;5;124;43m'\u001b[39;49m\u001b[38;5;124;43mind.2\u001b[39;49m\u001b[38;5;124;43m'\u001b[39;49m\u001b[43m,\u001b[49m\u001b[43m \u001b[49m\u001b[38;5;124;43m'\u001b[39;49m\u001b[38;5;124;43mwetb\u001b[39;49m\u001b[38;5;124;43m'\u001b[39;49m\u001b[43m,\u001b[49m\u001b[43m \u001b[49m\u001b[38;5;124;43m'\u001b[39;49m\u001b[38;5;124;43mdewpt\u001b[39;49m\u001b[38;5;124;43m'\u001b[39;49m\u001b[43m,\u001b[49m\n\u001b[0;32m      4\u001b[0m \u001b[43m       \u001b[49m\u001b[38;5;124;43m'\u001b[39;49m\u001b[38;5;124;43mvappr\u001b[39;49m\u001b[38;5;124;43m'\u001b[39;49m\u001b[43m,\u001b[49m\u001b[43m \u001b[49m\u001b[38;5;124;43m'\u001b[39;49m\u001b[38;5;124;43mrhum\u001b[39;49m\u001b[38;5;124;43m'\u001b[39;49m\u001b[43m,\u001b[49m\u001b[43m \u001b[49m\u001b[38;5;124;43m'\u001b[39;49m\u001b[38;5;124;43mmsl\u001b[39;49m\u001b[38;5;124;43m'\u001b[39;49m\u001b[43m,\u001b[49m\u001b[43m \u001b[49m\u001b[38;5;124;43m'\u001b[39;49m\u001b[38;5;124;43mind.3\u001b[39;49m\u001b[38;5;124;43m'\u001b[39;49m\u001b[43m,\u001b[49m\u001b[43m \u001b[49m\u001b[38;5;124;43m'\u001b[39;49m\u001b[38;5;124;43mwdsp\u001b[39;49m\u001b[38;5;124;43m'\u001b[39;49m\u001b[43m,\u001b[49m\u001b[43m \u001b[49m\u001b[38;5;124;43m'\u001b[39;49m\u001b[38;5;124;43mind.4\u001b[39;49m\u001b[38;5;124;43m'\u001b[39;49m\u001b[43m,\u001b[49m\u001b[43m \u001b[49m\u001b[38;5;124;43m'\u001b[39;49m\u001b[38;5;124;43mwddir\u001b[39;49m\u001b[38;5;124;43m'\u001b[39;49m\u001b[43m,\u001b[49m\u001b[43m \u001b[49m\u001b[38;5;124;43m'\u001b[39;49m\u001b[38;5;124;43mww\u001b[39;49m\u001b[38;5;124;43m'\u001b[39;49m\u001b[43m,\u001b[49m\u001b[43m \u001b[49m\u001b[38;5;124;43m'\u001b[39;49m\u001b[38;5;124;43mw\u001b[39;49m\u001b[38;5;124;43m'\u001b[39;49m\u001b[43m,\u001b[49m\n\u001b[0;32m      5\u001b[0m \u001b[43m       \u001b[49m\u001b[38;5;124;43m'\u001b[39;49m\u001b[38;5;124;43msun\u001b[39;49m\u001b[38;5;124;43m'\u001b[39;49m\u001b[43m,\u001b[49m\u001b[43m \u001b[49m\u001b[38;5;124;43m'\u001b[39;49m\u001b[38;5;124;43mvis\u001b[39;49m\u001b[38;5;124;43m'\u001b[39;49m\u001b[43m,\u001b[49m\u001b[43m \u001b[49m\u001b[38;5;124;43m'\u001b[39;49m\u001b[38;5;124;43mclht\u001b[39;49m\u001b[38;5;124;43m'\u001b[39;49m\u001b[43m,\u001b[49m\u001b[43m \u001b[49m\u001b[38;5;124;43m'\u001b[39;49m\u001b[38;5;124;43mclamt\u001b[39;49m\u001b[38;5;124;43m'\u001b[39;49m\u001b[43m]\u001b[49m\u001b[43m \u001b[49m\u001b[38;5;241;43m-\u001b[39;49m\u001b[43m \u001b[49m\u001b[43mcolumns\u001b[49m\n\u001b[0;32m      6\u001b[0m columns \u001b[38;5;241m=\u001b[39m [\u001b[38;5;124m'\u001b[39m\u001b[38;5;124mtime\u001b[39m\u001b[38;5;124m'\u001b[39m,\u001b[38;5;124m'\u001b[39m\u001b[38;5;124mtemp\u001b[39m\u001b[38;5;124m'\u001b[39m,\u001b[38;5;124m'\u001b[39m\u001b[38;5;124mmean\u001b[39m\u001b[38;5;124m'\u001b[39m,\u001b[38;5;124m'\u001b[39m\u001b[38;5;124mvappr\u001b[39m\u001b[38;5;124m'\u001b[39m,\u001b[38;5;124m'\u001b[39m\u001b[38;5;124mind\u001b[39m\u001b[38;5;124m'\u001b[39m,\u001b[38;5;124m'\u001b[39m\u001b[38;5;124mind.1\u001b[39m\u001b[38;5;124m'\u001b[39m,\u001b[38;5;124m'\u001b[39m\u001b[38;5;124mrain\u001b[39m\u001b[38;5;124m'\u001b[39m,\u001b[38;5;124m'\u001b[39m\u001b[38;5;124mrhum\u001b[39m\u001b[38;5;124m'\u001b[39m,\u001b[38;5;124m'\u001b[39m\u001b[38;5;124mmsl\u001b[39m\u001b[38;5;124m'\u001b[39m,\u001b[38;5;124m'\u001b[39m\u001b[38;5;124mwdsp\u001b[39m\u001b[38;5;124m'\u001b[39m,\u001b[38;5;124m'\u001b[39m\u001b[38;5;124mwddir\u001b[39m\u001b[38;5;124m'\u001b[39m,\u001b[38;5;124m'\u001b[39m\u001b[38;5;124mww\u001b[39m\u001b[38;5;124m'\u001b[39m,\u001b[38;5;124m'\u001b[39m\u001b[38;5;124mw\u001b[39m\u001b[38;5;124m'\u001b[39m,\u001b[38;5;124m'\u001b[39m\u001b[38;5;124msun\u001b[39m\u001b[38;5;124m'\u001b[39m,\u001b[38;5;124m'\u001b[39m\u001b[38;5;124mclht\u001b[39m\u001b[38;5;124m'\u001b[39m,\u001b[38;5;124m'\u001b[39m\u001b[38;5;124mclamt\u001b[39m\u001b[38;5;124m'\u001b[39m,]\n\u001b[0;32m      7\u001b[0m covariance_matrix \u001b[38;5;241m=\u001b[39m df[[\u001b[38;5;124m'\u001b[39m\u001b[38;5;124mtemp\u001b[39m\u001b[38;5;124m'\u001b[39m,\u001b[38;5;124m'\u001b[39m\u001b[38;5;124mmean\u001b[39m\u001b[38;5;124m'\u001b[39m,\u001b[38;5;124m'\u001b[39m\u001b[38;5;124mvappr\u001b[39m\u001b[38;5;124m'\u001b[39m,\u001b[38;5;124m'\u001b[39m\u001b[38;5;124mind\u001b[39m\u001b[38;5;124m'\u001b[39m,\u001b[38;5;124m'\u001b[39m\u001b[38;5;124mind.1\u001b[39m\u001b[38;5;124m'\u001b[39m,\u001b[38;5;124m'\u001b[39m\u001b[38;5;124mrain\u001b[39m\u001b[38;5;124m'\u001b[39m,\u001b[38;5;124m'\u001b[39m\u001b[38;5;124mrhum\u001b[39m\u001b[38;5;124m'\u001b[39m,\u001b[38;5;124m'\u001b[39m\u001b[38;5;124mmsl\u001b[39m\u001b[38;5;124m'\u001b[39m,\u001b[38;5;124m'\u001b[39m\u001b[38;5;124mwdsp\u001b[39m\u001b[38;5;124m'\u001b[39m,\u001b[38;5;124m'\u001b[39m\u001b[38;5;124mwddir\u001b[39m\u001b[38;5;124m'\u001b[39m,\u001b[38;5;124m'\u001b[39m\u001b[38;5;124mww\u001b[39m\u001b[38;5;124m'\u001b[39m,\u001b[38;5;124m'\u001b[39m\u001b[38;5;124mw\u001b[39m\u001b[38;5;124m'\u001b[39m,\u001b[38;5;124m'\u001b[39m\u001b[38;5;124msun\u001b[39m\u001b[38;5;124m'\u001b[39m,\u001b[38;5;124m'\u001b[39m\u001b[38;5;124mclht\u001b[39m\u001b[38;5;124m'\u001b[39m,\u001b[38;5;124m'\u001b[39m\u001b[38;5;124mclamt\u001b[39m\u001b[38;5;124m'\u001b[39m,]]\u001b[38;5;241m.\u001b[39mcorr() \u001b[38;5;66;03m#ind.3,ind.4 : valeurs nulles, \u001b[39;00m\n",
      "\u001b[1;31mTypeError\u001b[0m: unsupported operand type(s) for -: 'list' and 'list'"
     ]
    }
   ],
   "source": [
    "print([[name_column for name_column in df.columns if name_column]])\n",
    "columns = ['time','temp','mean','vappr','ind','ind.1','rain','rhum','msl','wdsp','wddir','ww','w','sun','clht','clamt',]\n",
    "L= ['date', 'ind', 'rain', 'ind.1', 'temp', 'ind.2', 'wetb', 'dewpt',\n",
    "       'vappr', 'rhum', 'msl', 'ind.3', 'wdsp', 'ind.4', 'wddir', 'ww', 'w',\n",
    "       'sun', 'vis', 'clht', 'clamt'] - columns\n",
    "columns = ['time','temp','mean','vappr','ind','ind.1','rain','rhum','msl','wdsp','wddir','ww','w','sun','clht','clamt',]\n",
    "covariance_matrix = df[['temp','mean','vappr','ind','ind.1','rain','rhum','msl','wdsp','wddir','ww','w','sun','clht','clamt',]].corr() #ind.3,ind.4 : valeurs nulles, \n",
    "covariance_result = covariance_matrix.iloc[1]\n",
    "noms = covariance_result.keys\n",
    "values = covariance_result.values\n",
    "values = [abs(value) for value in values] \n",
    "\n",
    "d = {('consommation',columns[i]) : values[i] for i in range(len(values)) if columns[i] != 'mean'}\n",
    "d = {k: v for k, v in sorted(d.items(), key=lambda item: item[1], reverse =True)}\n"
   ]
  },
  {
   "cell_type": "markdown",
   "metadata": {},
   "source": [
    "### Commentaire\n",
    "On a bien que le niveau de vapeur d'eau, la température et l'humidité sont les plus corrélés avec la consommation électrique "
   ]
  },
  {
   "cell_type": "markdown",
   "metadata": {},
   "source": [
    "## Remarque \n",
    "On remarque bien que les données tout au long de l'année ne suffisent pas, on va maintenant s'intéresser aux mois individuelles et voir la variation mensuelle, quotidienne et horaire de la consommation électrique"
   ]
  },
  {
   "cell_type": "code",
   "execution_count": null,
   "metadata": {},
   "outputs": [],
   "source": [
    "from datetime import datetime\n",
    "\n",
    "def dataset_mois(année,mois):# retourne les valeurs des grandeurs pour le mois en argument\n",
    "    return df[(df['time'].dt.year == année) & (df['time'].dt.month ==mois)]\n",
    "def dataset_semaine(année,mois):#retourne les valeurs des grandeurs hebdomadaires \n",
    "    df_m = df[(df['time'].dt.year == année) & (df['time'].dt.month == mois)]\n",
    "    dates = df_m['time'].to_list()\n",
    "    df_m['time'] = df_m['time'].dt.strftime('%d %m %Y')\n",
    "    df_mm = df_m['time'].drop_duplicates()\n",
    "    dates = df_mm.to_list()\n",
    "    i=0\n",
    "    for k in range(len(dates)):\n",
    "        if pd.to_datetime(dates[k]).weekday() == 0:\n",
    "            i=k\n",
    "            break\n",
    "    new_dates = dates[i:]\n",
    "    n=len(new_dates)\n",
    "    new_dates = new_dates[:int(np.floor(n/7) * 7)]\n",
    "    days = [int(s[:2]) for s in new_dates ]\n",
    "    Df = df[(df['time'].dt.year == année) & (df['time'].dt.month == mois)]\n",
    "    df_mmm = Df[Df['time'].dt.day.isin(days)]\n",
    "    return df_mmm\n",
    "print(dataset_semaine(2010,1).head())\n",
    "def dataset_journée(année,mois,journée):\n",
    "    return df[(df['time'].dt.year == année) & (df['time'].dt.month == mois) & (df['time'].dt.day == journée)]\n",
    "print(dataset_journée(2009,12,30).head())\n"
   ]
  },
  {
   "cell_type": "markdown",
   "metadata": {},
   "source": [
    "Corrélation entre consommation électrique et les autres variables explicatives pour le mois de décembre 2009"
   ]
  },
  {
   "cell_type": "code",
   "execution_count": null,
   "metadata": {},
   "outputs": [],
   "source": [
    "columns = dataset_mois(2009,12).columns\n",
    "for name in columns : \n",
    "    try : \n",
    "        sns.pairplot(dataset_mois(2009,12),x_vars=[name], y_vars='mean', height=4, aspect=3, kind='scatter')\n",
    "    except: \n",
    "        print(name)"
   ]
  },
  {
   "cell_type": "code",
   "execution_count": null,
   "metadata": {},
   "outputs": [],
   "source": [
    "df_mois=dataset_mois(2009,12)\n",
    "columns = ['temp','mean','vappr','ind','ind.1','rain','rhum','msl','wdsp','wddir','ww','w','sun','clht','clamt',]\n",
    "covariance_matrix = df_mois[['temp','mean','vappr','ind','ind.1','rain','rhum','msl','wdsp','wddir','ww','w','sun','clht','clamt',]].corr() #ind.3,ind.4 : valeurs nulles, \n",
    "covariance_result = covariance_matrix.iloc[1]\n",
    "noms = covariance_result.keys\n",
    "values = covariance_result.values\n",
    "values = [abs(value) for value in values] \n",
    "\n",
    "d = {('consommation',columns[i]) : values[i] for i in range(len(values)) if columns[i] != 'mean'}\n",
    "d = {k: v for k, v in sorted(d.items(), key=lambda item: item[1], reverse =True)}\n",
    "print(d)"
   ]
  },
  {
   "cell_type": "code",
   "execution_count": null,
   "metadata": {},
   "outputs": [],
   "source": [
    "columns = dataset_journée(2009,2,1).columns\n",
    "for name in columns : \n",
    "    try : \n",
    "        sns.pairplot(dataset_journée(2010,8,2),x_vars=[name], y_vars='mean', height=4, aspect=3, kind='scatter')\n",
    "    except: \n",
    "        print(name)"
   ]
  },
  {
   "cell_type": "code",
   "execution_count": null,
   "metadata": {},
   "outputs": [],
   "source": [
    "plt.plot(dataset_semaine(2009,10).iloc[:7*24]['time'].to_list(), dataset_semaine(2009,10).iloc[:7*24]['mean'].to_list(), '-')\n",
    "plt.show()"
   ]
  }
 ],
 "metadata": {
  "kernelspec": {
   "display_name": "Python 3",
   "language": "python",
   "name": "python3"
  },
  "language_info": {
   "codemirror_mode": {
    "name": "ipython",
    "version": 3
   },
   "file_extension": ".py",
   "mimetype": "text/x-python",
   "name": "python",
   "nbconvert_exporter": "python",
   "pygments_lexer": "ipython3",
   "version": "3.11.3"
  }
 },
 "nbformat": 4,
 "nbformat_minor": 2
}
