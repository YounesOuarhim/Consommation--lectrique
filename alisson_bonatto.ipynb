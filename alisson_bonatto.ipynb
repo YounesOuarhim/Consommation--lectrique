{
 "cells": [
  {
   "cell_type": "markdown",
   "metadata": {},
   "source": [
    "### Import des données"
   ]
  },
  {
   "cell_type": "code",
   "execution_count": 793,
   "metadata": {},
   "outputs": [],
   "source": [
    "import pandas as pd\n",
    "import matplotlib.pyplot as plt\n",
    "import seaborn as sns\n",
    "import numpy as np\n",
    "import datetime"
   ]
  },
  {
   "cell_type": "code",
   "execution_count": 794,
   "metadata": {},
   "outputs": [],
   "source": [
    "df_corkstation = pd.read_csv(\"Corkstation_15072019_01022011.csv\")"
   ]
  },
  {
   "cell_type": "code",
   "execution_count": 795,
   "metadata": {},
   "outputs": [],
   "source": [
    "df_vst = pd.read_csv(\"df_vst_group6.csv\")"
   ]
  },
  {
   "cell_type": "markdown",
   "metadata": {},
   "source": [
    "### Prétraitement\n"
   ]
  },
  {
   "cell_type": "code",
   "execution_count": null,
   "metadata": {},
   "outputs": [],
   "source": []
  },
  {
   "cell_type": "markdown",
   "metadata": {},
   "source": [
    "Interpolating incomplete data from df_corkstation"
   ]
  },
  {
   "cell_type": "code",
   "execution_count": 796,
   "metadata": {},
   "outputs": [],
   "source": [
    "# Changing index to date column\n",
    "df_corkstation['date'] = pd.to_datetime(df_corkstation['date'])\n",
    "df_corkstation.set_index('date', inplace=True)\n",
    "\n",
    "# Interpolating over missing data\n",
    "df_corkstation = df_corkstation.replace({' ': '-1'}, regex=True)\n",
    "df_corkstation['wetb'] = pd.to_numeric(df_corkstation['wetb'])\n",
    "df_corkstation['vis'] = pd.to_numeric(df_corkstation['vis'])\n",
    "df_corkstation = df_corkstation.replace({-1: np.nan}, regex=True)\n",
    "df_corkstation = df_corkstation.interpolate()"
   ]
  },
  {
   "cell_type": "markdown",
   "metadata": {},
   "source": [
    "Resample and interpolating"
   ]
  },
  {
   "cell_type": "code",
   "execution_count": 797,
   "metadata": {},
   "outputs": [],
   "source": [
    "# Resample for each 30 min and interpolating\n",
    "df_corkstation_resampled = df_corkstation.resample('30T').interpolate(method='linear')"
   ]
  },
  {
   "cell_type": "markdown",
   "metadata": {},
   "source": [
    "Adding week-end, season info"
   ]
  },
  {
   "cell_type": "code",
   "execution_count": 798,
   "metadata": {},
   "outputs": [],
   "source": [
    "# Lists to be used\n",
    "weekend_list = []\n",
    "season_list = []\n",
    "work_time_list = []\n",
    "\n",
    "# Get season function\n",
    "def get_season(date):\n",
    "    year = date.year\n",
    "    seasons = {\n",
    "        'spring': (pd.Timestamp(year=year, month=3, day=21), pd.Timestamp(year=year, month=6, day=20)),\n",
    "        'summer': (pd.Timestamp(year=year, month=6, day=20), pd.Timestamp(year=year, month=9, day=20)),\n",
    "        'fall': (pd.Timestamp(year=year, month=9, day=21), pd.Timestamp(year=year, month=12, day=20)),\n",
    "        'winter': (pd.Timestamp(year=year, month=12, day=21), pd.Timestamp(year=year + 1, month=3, day=19))\n",
    "    }\n",
    "    \n",
    "    if seasons['spring'][0] <= date <= seasons['spring'][1]:\n",
    "        return 1\n",
    "    elif seasons['summer'][0] <= date <= seasons['summer'][1]:\n",
    "        return 2\n",
    "    elif seasons['fall'][0] <= date <= seasons['fall'][1]:\n",
    "        return 3\n",
    "    else:\n",
    "        return 4\n",
    "    \n",
    "# Adding info to lists\n",
    "for date in df_corkstation_resampled.index.tolist():\n",
    "    if date.weekday() == 5 or date.weekday() == 6:\n",
    "        weekend_list.append(1)\n",
    "    else:\n",
    "        weekend_list.append(0)\n",
    "\n",
    "    season_list.append(get_season(date))\n",
    "\n",
    "    if date.hour >= 8 and date.hour <= 18:\n",
    "        work_time_list.append(1)\n",
    "    else:\n",
    "        work_time_list.append(0)\n",
    "\n",
    "# Creating dataframes with info\n",
    "weekend_df = pd.DataFrame({'weekend': weekend_list})\n",
    "season_df = pd.DataFrame({'season': season_list})\n",
    "work_time_df = pd.DataFrame({'season': work_time_list})\n",
    "\n",
    "# Concating created info to the dataframe corkstation\n",
    "time_info = pd.concat([weekend_df, season_df, work_time_df], axis=1)\n",
    "time_info.set_index(df_corkstation_resampled.index, inplace=True)\n",
    "df_corkstation_resampled = pd.concat([df_corkstation_resampled, time_info], axis=1)"
   ]
  },
  {
   "cell_type": "markdown",
   "metadata": {},
   "source": [
    "Deleting last data from dataframes to match the consumption data"
   ]
  },
  {
   "cell_type": "code",
   "execution_count": 799,
   "metadata": {},
   "outputs": [],
   "source": [
    "date_to_be_cropped = datetime.datetime(2010, 12, 14, 23, 0)\n",
    "df_corkstation_cropped = df_corkstation_resampled[df_corkstation_resampled.index <= date_to_be_cropped]\n",
    "\n",
    "df_vst['time'] = pd.to_datetime(df_vst['time'])\n",
    "df_vst.set_index('time', inplace=True)\n",
    "df_vst_cropped = df_vst[df_vst.index<=date_to_be_cropped]"
   ]
  },
  {
   "cell_type": "markdown",
   "metadata": {},
   "source": [
    "Merging two dataframes"
   ]
  },
  {
   "cell_type": "code",
   "execution_count": 800,
   "metadata": {},
   "outputs": [],
   "source": [
    "df_corkstation_cropped = df_corkstation_cropped.drop(columns=['temp'])\n",
    "df_to_train_and_test = pd.concat([df_corkstation_cropped, df_vst_cropped], axis=1)\n",
    "\n",
    "df_to_train_and_test.to_csv('data_to_train_and_test.csv')\n"
   ]
  }
 ],
 "metadata": {
  "kernelspec": {
   "display_name": "Python 3",
   "language": "python",
   "name": "python3"
  },
  "language_info": {
   "codemirror_mode": {
    "name": "ipython",
    "version": 3
   },
   "file_extension": ".py",
   "mimetype": "text/x-python",
   "name": "python",
   "nbconvert_exporter": "python",
   "pygments_lexer": "ipython3",
   "version": "3.11.5"
  }
 },
 "nbformat": 4,
 "nbformat_minor": 2
}
